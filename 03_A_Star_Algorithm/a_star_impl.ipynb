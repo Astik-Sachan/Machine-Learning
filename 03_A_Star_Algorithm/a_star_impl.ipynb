{
 "cells": [
  {
   "cell_type": "markdown",
   "metadata": {},
   "source": [
    "<center><h1> Artifical and Computational Intelligence Assignment 1 </h1></center>\n",
    " \n",
    "Problem Solving by using A*\n",
    "\n",
    "Weightage: 13%\n",
    "\n",
    "Date of Posting - 09/Dec/2019\n",
    "\n",
    "Deadline - 24/Dec/2019"
   ]
  },
  {
   "cell_type": "markdown",
   "metadata": {},
   "source": [
    "Please Enter group and Individual information below:\n",
    "\n",
    "Group ID/Number: ACI_GROUP085\n",
    "\n",
    "Group Members BITS ID:\n",
    "Ravikumar Vinnakota : 2018ah04548@wilp.bits-pilani.ac.in\n",
    "Sanjay Singh Bharara : 2018ah04633@wilp.bits-pilani.ac.in\n",
    "Bhuwan Chandra Bisht : 2018ah04607@wilp.bits-pilani.ac.in\n",
    "Siddharth Pangotra : 2018ah04578@wilp.bits-pilani.ac.in"
   ]
  },
  {
   "cell_type": "markdown",
   "metadata": {},
   "source": [
    "<h3>Things to Follow</h3>\n",
    "\n",
    "1. Use appropriate data structures for the fringes and explain the reasoning behind the usage. You need not create data structures, instead use available libraries directly.\n",
    "\n",
    "2. Avoid any hard-coding unless absolutely necessary.\n",
    "\n",
    "3. Provide proper documentation\n",
    "\n",
    "4. Read the question file provided carefully and attempt all the questions! "
   ]
  },
  {
   "cell_type": "markdown",
   "metadata": {},
   "source": [
    "Coding begins now!!!"
   ]
  },
  {
   "cell_type": "markdown",
   "metadata": {},
   "source": [
    "1) Define the environment representation in the following code block"
   ]
  },
  {
   "cell_type": "code",
   "execution_count": 1,
   "metadata": {},
   "outputs": [
    {
     "data": {
      "text/plain": [
       "'\\n# PEAS Description of the Task Environment\\n# Agent Type : Taxi Driver\\n\\nPerformance Measure : Safe , Fast, Comfortable and Maximize Profits with minimal cost.\\nEnvironment : Roads, other traffic, Bad weather , Pedestrians, Hilly terrain, Stray animals\\nActuators : Steering ,Accelerator,Brake,Clutch and Gear , Signal Indicators,Horn, Display Dashboard\\nSensors : Speedometer, Reverse Camera , GPS Navigation,odometer,Accelerometer,Rain sensing wipers,Engine sensors,\\n          Coolant monitor\\n'"
      ]
     },
     "execution_count": 1,
     "metadata": {},
     "output_type": "execute_result"
    }
   ],
   "source": [
    "#Environment representation goes here\n",
    "\"\"\"\n",
    "# PEAS Description of the Task Environment\n",
    "# Agent Type : Taxi Driver\n",
    "\n",
    "Performance Measure : Safe , Fast, Comfortable and Maximize Profits with minimal cost.\n",
    "Environment : Roads, other traffic, Bad weather , Pedestrians, Hilly terrain, Stray animals\n",
    "Actuators : Steering ,Accelerator,Brake,Clutch and Gear , Signal Indicators,Horn, Display Dashboard\n",
    "Sensors : Speedometer, Reverse Camera , GPS Navigation,odometer,Accelerometer,Rain sensing wipers,Engine sensors,\n",
    "          Coolant monitor\n",
    "\"\"\"          \n"
   ]
  },
  {
   "cell_type": "markdown",
   "metadata": {},
   "source": [
    "Define the haversine formula and what it does"
   ]
  },
  {
   "cell_type": "code",
   "execution_count": 2,
   "metadata": {},
   "outputs": [
    {
     "data": {
      "text/plain": [
       "'\\n\\nCalculates the great-circle distance between twopoints – that is, the shortest distance over the earth’s surface – \\ngiving an ‘as-the-crow-flies’ distance between the points.\\n\\nHaversine formula: \\n\\na = sin²(Δφ/2) + cos φ1 ⋅ cos φ2 ⋅ sin²(Δλ/2) \\nc = 2 ⋅ atan2( √a, √(1−a) ) \\nd = R ⋅ c \\nwhere φ is latitude, λ is longitude, R is earth’s radius (mean radius = 6,371km);\\n\\n'"
      ]
     },
     "execution_count": 2,
     "metadata": {},
     "output_type": "execute_result"
    }
   ],
   "source": [
    "#haversine formula representation \n",
    "\n",
    "\"\"\"\n",
    "\n",
    "Calculates the great-circle distance between twopoints – that is, the shortest distance over the earth’s surface – \n",
    "giving an ‘as-the-crow-flies’ distance between the points.\n",
    "\n",
    "Haversine formula: \n",
    "\n",
    "a = sin²(Δφ/2) + cos φ1 ⋅ cos φ2 ⋅ sin²(Δλ/2) \n",
    "c = 2 ⋅ atan2( √a, √(1−a) ) \n",
    "d = R ⋅ c \n",
    "where φ is latitude, λ is longitude, R is earth’s radius (mean radius = 6,371km);\n",
    "\n",
    "\"\"\"\n",
    "\n"
   ]
  },
  {
   "cell_type": "markdown",
   "metadata": {},
   "source": [
    "2) Define a function which calculates the heuristic distance from each city to the destination city in the following code block"
   ]
  },
  {
   "cell_type": "code",
   "execution_count": 3,
   "metadata": {},
   "outputs": [
    {
     "name": "stdout",
     "output_type": "stream",
     "text": [
      "[('Panji', (15.4909, 73.8278), 744), ('Raichur', (16.2076, 77.3463), 469), ('Mangalore', (12.9141, 74.856), 587), ('Bellari', (15.1394, 76.9214), 427), ('Tirupati', (13.6288, 79.4192), 110), ('Kurnool', (15.8281, 78.0373), 389), ('Kozhikode', (11.2588, 75.7804), 529), ('Bangalore', (12.9716, 77.5946), 290), ('Nellore', (14.4426, 79.9865), 154), ('Chennai', (13.0827, 80.2707), 154)]\n"
     ]
    }
   ],
   "source": [
    "#Function for calculating distance from each node/city to Destination\n",
    "import pandas as pd\n",
    "import math\n",
    "\n",
    "heuristic_list=[]\n",
    "\n",
    "def haversine_dist(source, destination):\n",
    "    latitude_1, longitude_1 = source\n",
    "    latitude_2, longitude_2 = destination\n",
    "    radius = 6371 # km\n",
    "\n",
    "    latitude_diff = math.radians(latitude_2-latitude_1)\n",
    "    longitude_diff = math.radians(longitude_2-longitude_1)\n",
    "    \n",
    "    a = math.sin(latitude_diff/2) * math.sin(latitude_diff/2) + math.cos(math.radians(latitude_1))* math.cos(math.radians(latitude_2)) * math.sin(longitude_diff/2) * math.sin(longitude_diff/2)\n",
    "    c = 2 * math.atan2(math.sqrt(a), math.sqrt(1-a))\n",
    "    d = radius * c\n",
    "\n",
    "    return d \n",
    "\n",
    "\"\"\" Returns the Heuristic Table with distances calculated using the Haversines Formula given above \"\"\" \n",
    "def retHeuristicTable():   \n",
    "    \n",
    "    x = pd.read_csv(r\"C:/Users/ravvinna/OneDrive - Capgemini/Documents/ai/Assignment1/distance_table.csv\")\n",
    "    \n",
    "    des_lat = (x.loc[x['City']=='Chennai']).iloc[:,1]\n",
    "    des_long = (x.loc[x['City']=='Chennai']).iloc[:,2]\n",
    "\n",
    "    for index,value in des_lat.items():\n",
    "        lat_d = float(value.replace('° N',''))\n",
    "\n",
    "    for index,value in des_long.items():\n",
    "        long_d = float(value.replace('° E',''))    \n",
    "\n",
    "    destination = float(lat_d),float(long_d)\n",
    "\n",
    "    city_coordi = (x.loc[x['City']!='Chennai']).iloc[:,0:3]\n",
    "    \n",
    "\n",
    "    for row in city_coordi.itertuples(): \n",
    "    \n",
    "        source = float(row[2].replace('° N','')),float(row[3].replace('° E',''))\n",
    "        heuristic_list.append((row[1],source,round(haversine_dist(source,destination))))\n",
    "    \n",
    "    heuristic_list.append(('Chennai',destination,round(haversine_dist(source,destination))))\n",
    "    return heuristic_list\n",
    "\n",
    "print(retHeuristicTable())  "
   ]
  },
  {
   "cell_type": "markdown",
   "metadata": {},
   "source": [
    "3) Implementation of A* Algorithm . Feel free to add code blocks for each methods needed starting here.\n",
    "Please modularize the implementation of A* and write each of them in a code block. "
   ]
  },
  {
   "cell_type": "code",
   "execution_count": 4,
   "metadata": {},
   "outputs": [],
   "source": [
    "#Code Block 1\n",
    "\n",
    "\"\"\"\n",
    "Function to check if each node on the journey is the Goal or not\n",
    "\"\"\"\n",
    "def goalTest(node):\n",
    "    \n",
    "    if(node[0]==destination): \n",
    "        closedlist.append(node)        \n",
    "        return node\n",
    "    else:   \n",
    "        return node\n",
    "\n",
    "\"\"\" \n",
    "Augments the distance parameter of each node with the heuristic value to take an informed decision on the \n",
    "search towards the destination\n",
    "\"\"\"\n",
    "def addHeuristic(snode):\n",
    "    \n",
    "    if snode[0]==destination:\n",
    "        return 1\n",
    "    else:\n",
    "        for i in heuristic_list: \n",
    "            if(snode[0]==i[0] and (snode[0]!= destination)):\n",
    "                tmp=int(snode[1])+int(str(i[2])) \n",
    "                augmntd_node=(snode[0],tmp)\n",
    "                openlist.append(augmntd_node)            \n",
    "                return 0\n",
    "\n",
    "\"\"\"\n",
    "addClosedList Function: updates the ClosedList with the best nodes which are along the shortest path to the destination\n",
    "\n",
    "\"\"\"\n",
    "def addClosedList(xnodelist):\n",
    "    \n",
    "    tmplist=xnodelist\n",
    "    mvar=min(tmplist, key = lambda z: int(z[1]))    \n",
    "    closedlist.append(mvar)\n",
    "    \n",
    "    return \n",
    "\n",
    "\"\"\" \n",
    "Expand Node Function: Move from the best node onwards towards the destination \n",
    "calls out the addHeuristic Function for augmenting the distance with heuristic values to help take a \n",
    "better decision to move towards the destination\n",
    "\"\"\"\n",
    "def expandNode(key,xnode):\n",
    "\n",
    "    if (key==source):  \n",
    "        i=0\n",
    "        for node in xnode:                    \n",
    "            start=node[i]\n",
    "            if((source==start) and (openlist==[])):\n",
    "                openlist.append(node)\n",
    "                goalTest(node)\n",
    "                retval=closedlist.append(node)\n",
    "                openlist.pop()\n",
    "                i=i+1                \n",
    "            else:                                  \n",
    "                retval=addHeuristic(goalTest(node))\n",
    "        \n",
    "        retval=addClosedList(openlist)\n",
    "        openlist.pop()\n",
    "\n",
    "                \n",
    "    elif (key!=source):\n",
    "        for node in xnode:\n",
    "            retval=addHeuristic(goalTest(node))\n",
    "        \n",
    "        if retval==0:\n",
    "            addClosedList(openlist)\n",
    "\n",
    "\n",
    "    return retval"
   ]
  },
  {
   "cell_type": "code",
   "execution_count": 5,
   "metadata": {},
   "outputs": [],
   "source": [
    "#Code Block 2 .. "
   ]
  },
  {
   "cell_type": "markdown",
   "metadata": {},
   "source": [
    "Call your main function/algorithm block in the next code block with appropriate input representation"
   ]
  },
  {
   "cell_type": "code",
   "execution_count": 6,
   "metadata": {
    "scrolled": true
   },
   "outputs": [],
   "source": [
    "#Computation call\n",
    "import sys\n",
    "\n",
    "source = 'Panji'\n",
    "destination = 'Chennai'\n",
    "closedlist=[]\n",
    "openlist=[]\n",
    "shortestpath_last_compunded_dist=0 \n",
    "heuristic_lst = retHeuristicTable()\n",
    "\n",
    "\"\"\"Storing the Map directions on a directory data structure \"\"\"\n",
    "\n",
    "graph = {'Panji': [('Panji', 0),('Raichur', 457),('Mangalore', 365),('Bellari', 409)],\n",
    "             'Raichur': [('Panji', 457),('Raichur',0),('Tirupati',453),('Kurnool',100)],\n",
    "             'Mangalore': [('Panji',365),('Mangalore',0),('Kozhikode',233),('Bangalore',352)],\n",
    "             'Bellari': [('Panji',409),('Bellari',0),('Tirupati',379),('Bangalore',311)],\n",
    "             'Tirupati': [('Raichur',453),('Bellari',379),('Tirupati',0),('Kurnool',340),('Nellore',136),('Chennai',153)],\n",
    "             'Kurnool': [('Raichur',100),('Tirupati',340),('Kurnool',0),('Nellore',325)],\n",
    "             'Kozhikode':[('Mangalore',233),('Kozhikode',0),('Bangalore',356)],\n",
    "             'Bangalore':[('Mangalore',352),('Bellari',311),('Kozhikode',356),('Bangalore',0),('Chennai',346)],\n",
    "             'Nellore':[('Tirupati',136),('Kurnool',325),('Nellore',0),('Chennai',175)],\n",
    "             'Chennai':[('Tirupati',153),('Bangalore',346),('Nellore',175),('Chennai',0)]\n",
    "        }\n",
    "\n",
    "\"\"\"\n",
    "Augment the the last compounded distance with its current distance (from n-1 node to nth node)\n",
    "\n",
    "\"\"\"\n",
    "def compoundDist(svalue,last_compdist_from_start):\n",
    "        \n",
    "        tval=str(int(svalue[1])+last_compdist_from_start)      \n",
    "        augm_svalue=(svalue[0],tval)\n",
    "        return augm_svalue\n",
    "\n",
    "\n",
    "\n",
    "# Main Function invocation calls\n",
    "\n",
    "for key,value in graph.items():  \n",
    "    city=''.join([x[0] for x in closedlist if x[0]==key])\n",
    "\n",
    "    if ((key==source) and closedlist==[]):\n",
    "        expandNode(key,value) \n",
    "        tval=[v[1] for v in value if closedlist[max([closedlist.index(x) for x in closedlist])][0]==v[0]]\n",
    "        shortestpath_last_compunded_dist=int(str(tval[0])) \n",
    "    elif ((key!=source) and (key==city)):\n",
    "        tmplist=[]\n",
    "        tmp=[v for v in value for t in (set([x[0] for x in value])-(set([z[0] for z in closedlist]))) if v[0]==t]\n",
    "        \n",
    "        \"\"\"calculating the last compounded distance along the shortest path \"\"\"\n",
    "        for h in heuristic_list:\n",
    "            if h[0]==closedlist[-1][0]:\n",
    "                shortestpath_last_compunded_dist= int(closedlist[-1][1])-int(h[2])        \n",
    "        \n",
    "        for i in tmp:            \n",
    "            sval=compoundDist(i,shortestpath_last_compunded_dist)\n",
    "            tmplist.append(sval)\n",
    "            \n",
    "        \"\"\" Calling the function to expand from the best node onwards towards the destination \"\"\"\n",
    "        value=tmplist\n",
    "        rval=expandNode(key,value)\n",
    "        if rval==1:\n",
    "            \"\"\"Clearing the Openlist since destination is reached \"\"\"\n",
    "            openlist=[]\n",
    "            #print('closedlist ',closedlist)\n",
    "            break;\n",
    "               \n"
   ]
  },
  {
   "cell_type": "markdown",
   "metadata": {},
   "source": [
    "The agent should provide expected output for questions mentioned below in the subsequent blocks"
   ]
  },
  {
   "cell_type": "markdown",
   "metadata": {},
   "source": [
    "(3.1) Path taken to reach destination from Panaji"
   ]
  },
  {
   "cell_type": "code",
   "execution_count": 7,
   "metadata": {},
   "outputs": [
    {
     "name": "stdout",
     "output_type": "stream",
     "text": [
      "[('Panji', 0), ('Bellari', 836), ('Tirupati', 898), ('Chennai', '941')]\n"
     ]
    }
   ],
   "source": [
    "# Execute statement to retrieve the path taken here\n",
    "print(closedlist)"
   ]
  },
  {
   "cell_type": "markdown",
   "metadata": {},
   "source": [
    "(3.2) Cost of the path"
   ]
  },
  {
   "cell_type": "code",
   "execution_count": 8,
   "metadata": {},
   "outputs": [
    {
     "name": "stdout",
     "output_type": "stream",
     "text": [
      "Total cost from source to destination  941\n"
     ]
    }
   ],
   "source": [
    "# Execute statement to retrieve the cost of the path here\n",
    "print('Total cost from source to destination ',closedlist[-1][1])"
   ]
  },
  {
   "cell_type": "markdown",
   "metadata": {},
   "source": [
    "(3.3) Total Number of nodes vistied to get this state"
   ]
  },
  {
   "cell_type": "code",
   "execution_count": 9,
   "metadata": {},
   "outputs": [
    {
     "name": "stdout",
     "output_type": "stream",
     "text": [
      "Total number of nodes visited to reach  Chennai from  Panji is : 4\n"
     ]
    }
   ],
   "source": [
    "# Execute statement to retrieve the total number of nodes visited to get this state here\n",
    "print('Total number of nodes visited to reach ',destination,'from ',source,'is :',len(closedlist))"
   ]
  },
  {
   "cell_type": "markdown",
   "metadata": {},
   "source": [
    "<center>All the best!! Happy Coding!!Let human intelligence prevail</center>\n",
    "<center>**********************************************************</center>"
   ]
  }
 ],
 "metadata": {
  "kernelspec": {
   "display_name": "Python 3",
   "language": "python",
   "name": "python3"
  },
  "language_info": {
   "codemirror_mode": {
    "name": "ipython",
    "version": 3
   },
   "file_extension": ".py",
   "mimetype": "text/x-python",
   "name": "python",
   "nbconvert_exporter": "python",
   "pygments_lexer": "ipython3",
   "version": "3.8.5"
  }
 },
 "nbformat": 4,
 "nbformat_minor": 2
}
